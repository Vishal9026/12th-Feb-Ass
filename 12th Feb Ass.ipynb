{
 "cells": [
  {
   "cell_type": "code",
   "execution_count": 4,
   "id": "ceb29492-acdd-44f3-9319-a53d85925977",
   "metadata": {},
   "outputs": [],
   "source": [
    "# ANSWER-1)An exception is an event, which occurs during the execution of a program that disrupts the normal flow of the program's instructions. In general, when a Python script encounters a situation that it cannot cope with, it raises an exception. An exception is a Python object that represents an error\n",
    "# Exception Error :Even if a statement or expression is syntactically correct, it may cause an error when an attempt is made to execute it.\n",
    "# Errors detected during code execution are called exceptions and are not unconditionally fatal. \n",
    "# Syntax Error : Syntax errors are perhaps the most common kind of complaint you get while you are still learning Python.\n"
   ]
  },
  {
   "cell_type": "code",
   "execution_count": 11,
   "id": "0860bbea-a9f5-49be-ad01-b974e355bc6a",
   "metadata": {},
   "outputs": [],
   "source": [
    "# ANSWER-2)When an exception is not handled in Python, the program will terminate and display an error message to the user. This can be problematic, especially if the program is a critical system or service that should continue running despite encountering an error.\n",
    "\n",
    "# Here's an example of what happens when an exception is not handled:\n",
    "\n",
    "# # Example 1: Division by zero\n",
    "# a = 10\n",
    "# b = 0\n",
    "# c = a / b\n",
    "# print(c)\n",
    "\n",
    "# ZeroDivisionError: division by zero\n",
    "\n",
    "# here the exception is handled\n",
    "\n",
    "# # Example 2: Handling division by zero\n",
    "# a = 10\n",
    "# b = 0\n",
    "\n",
    "# try:\n",
    "#     c = a / b\n",
    "# except ZeroDivisionError:\n",
    "#     print(\"Error: Division by zero\")\n",
    "# else:\n",
    "#     print(c)"
   ]
  },
  {
   "cell_type": "code",
   "execution_count": 16,
   "id": "be14ed3f-623a-448f-a65a-d85e6f519cca",
   "metadata": {},
   "outputs": [
    {
     "name": "stdout",
     "output_type": "stream",
     "text": [
      "invalid literal for int() with base 10: 'vishal'\n"
     ]
    }
   ],
   "source": [
    "# ANSWER-3)The try and except block in Python is used to catch and handle exceptions\n",
    "try :\n",
    "    int('vishal')\n",
    "except (ValueError , TypeError) as e:\n",
    "    print(e)\n",
    "    \n",
    "    "
   ]
  },
  {
   "cell_type": "code",
   "execution_count": 27,
   "id": "ecbb7023-7a80-46c1-ae43-ddc0f57fa3c9",
   "metadata": {},
   "outputs": [
    {
     "name": "stdin",
     "output_type": "stream",
     "text": [
      "Enter a number:  12\n"
     ]
    },
    {
     "name": "stdout",
     "output_type": "stream",
     "text": [
      "0.08333333333333333\n",
      "try and else are handle\n"
     ]
    }
   ],
   "source": [
    "# ANSWER-4)The try block lets you test a block of code for errors.\n",
    "# The else block lets you execute code when there is no error.\n",
    "# The finally block lets you execute code, regardless of the result of the try- and except blocks.\n",
    "try:\n",
    "    num = int(input(\"Enter a number: \"))\n",
    "    assert num % 2 == 0\n",
    "except:\n",
    "    print(\"Not an even number!\")\n",
    "else:\n",
    "    reciprocal = 1/num\n",
    "    print(reciprocal)\n",
    "finally :\n",
    "    print('try and else are handle')\n",
    "            \n"
   ]
  },
  {
   "cell_type": "code",
   "execution_count": 44,
   "id": "b190ca8f-90d1-4e5f-90fb-202c46e7a76b",
   "metadata": {},
   "outputs": [],
   "source": [
    "class string(Exception) :\n",
    "    def __init__(self , msg):\n",
    "        self.msg = msg"
   ]
  },
  {
   "cell_type": "code",
   "execution_count": 45,
   "id": "29389064-0750-4d76-b0ff-3f8d24c7b941",
   "metadata": {},
   "outputs": [],
   "source": [
    "def string1(str1):\n",
    "    if str1.isnumeric() :\n",
    "        raise string('given letter is not string')\n",
    "    else:\n",
    "        print('string')\n",
    "        \n",
    "    "
   ]
  },
  {
   "cell_type": "code",
   "execution_count": 47,
   "id": "ec7fbc3c-28c1-4cb9-9f63-213be1e4bb7d",
   "metadata": {},
   "outputs": [
    {
     "name": "stdin",
     "output_type": "stream",
     "text": [
      "enter your string vishal\n"
     ]
    },
    {
     "name": "stdout",
     "output_type": "stream",
     "text": [
      "string\n"
     ]
    }
   ],
   "source": [
    "try :\n",
    "    str1 = input('enter your string')\n",
    "    string1(str1)\n",
    "except string as e :\n",
    "    print(e)"
   ]
  },
  {
   "cell_type": "code",
   "execution_count": 5,
   "id": "63952ac7-ceb2-4d28-8395-12e24fdbbd26",
   "metadata": {},
   "outputs": [
    {
     "name": "stdin",
     "output_type": "stream",
     "text": [
      "enter your number 17\n"
     ]
    },
    {
     "name": "stdout",
     "output_type": "stream",
     "text": [
      "Invalid Age\n"
     ]
    }
   ],
   "source": [
    "# ANSWER-5)To create a custom exception class, you define a class that inherits from the built-in Exception class or one of its subclasses\n",
    "# Built-in exceptions offer information about Python-related problems, and custom exceptions will add information about project-related problems.\n",
    "class InvalidAgeException(Exception) :\n",
    "    pass\n",
    "    \n",
    "number = 18        \n",
    "try :\n",
    "    input_number =int(input('enter your number'))\n",
    "    if input_number<number:\n",
    "        raise InvalidAgeException\n",
    "    else:\n",
    "        print('you are eligible to vote')\n",
    "except InvalidAgeException:\n",
    "    print(\"Invalid Age\")\n",
    "    \n",
    "    \n",
    "    "
   ]
  },
  {
   "cell_type": "code",
   "execution_count": 9,
   "id": "fafd06e3-7835-46a3-b7ca-0b3a7a2901cc",
   "metadata": {},
   "outputs": [
    {
     "name": "stdin",
     "output_type": "stream",
     "text": [
      "enter your age: 45\n"
     ]
    },
    {
     "name": "stdout",
     "output_type": "stream",
     "text": [
      "driving licence pass\n"
     ]
    }
   ],
   "source": [
    "# ANSWER-6)\n",
    "class InvalidDrivingLicence(Exception):\n",
    "    pass\n",
    "age = 18\n",
    "try :\n",
    "    n=int(input('enter your age:'))\n",
    "    if n<age:\n",
    "        raise InvalidDrivingLicence\n",
    "    else:\n",
    "        print('driving licence pass')\n",
    "except InvalidDrivingLicence:\n",
    "    print('your age is not capable to get driving licence')"
   ]
  },
  {
   "cell_type": "code",
   "execution_count": 10,
   "id": "5cd2b83e-fe21-4f7c-aaf0-ea30812a5ff7",
   "metadata": {},
   "outputs": [
    {
     "name": "stdout",
     "output_type": "stream",
     "text": [
      "Index Out of Bound.\n"
     ]
    }
   ],
   "source": [
    "try:\n",
    "    \n",
    "    even_numbers = [2,4,6,8]\n",
    "    print(even_numbers[5])\n",
    "\n",
    "except ZeroDivisionError:\n",
    "    print(\"Denominator cannot be 0.\")\n",
    "    \n",
    "except IndexError:\n",
    "    print(\"Index Out of Bound.\")\n"
   ]
  },
  {
   "cell_type": "code",
   "execution_count": null,
   "id": "da46ab3c-2353-4ae0-99af-eda7d68f3262",
   "metadata": {},
   "outputs": [],
   "source": []
  }
 ],
 "metadata": {
  "kernelspec": {
   "display_name": "Python 3 (ipykernel)",
   "language": "python",
   "name": "python3"
  },
  "language_info": {
   "codemirror_mode": {
    "name": "ipython",
    "version": 3
   },
   "file_extension": ".py",
   "mimetype": "text/x-python",
   "name": "python",
   "nbconvert_exporter": "python",
   "pygments_lexer": "ipython3",
   "version": "3.10.8"
  }
 },
 "nbformat": 4,
 "nbformat_minor": 5
}
